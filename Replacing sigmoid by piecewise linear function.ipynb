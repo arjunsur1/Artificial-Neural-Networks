{
 "cells": [
  {
   "cell_type": "code",
   "execution_count": 2,
   "metadata": {},
   "outputs": [],
   "source": [
    "import numpy as np\n",
    "import pandas as pd\n",
    "import math\n",
    "import random\n",
    "import sys\n",
    "from sklearn.metrics import classification_report, confusion_matrix\n",
    "from sklearn.metrics import accuracy_score\n",
    "from sklearn import preprocessing\n",
    "from sklearn.model_selection import train_test_split"
   ]
  },
  {
   "cell_type": "code",
   "execution_count": 3,
   "metadata": {},
   "outputs": [],
   "source": [
    "data=pd.read_csv('diabetes.csv')"
   ]
  },
  {
   "cell_type": "code",
   "execution_count": 4,
   "metadata": {},
   "outputs": [],
   "source": [
    "data_x,data_y=data.drop('Outcome',axis=1).values, data['Outcome'].values"
   ]
  },
  {
   "cell_type": "code",
   "execution_count": 7,
   "metadata": {},
   "outputs": [],
   "source": [
    "data_x_scaled = preprocessing.scale(data_x)"
   ]
  },
  {
   "cell_type": "code",
   "execution_count": 187,
   "metadata": {},
   "outputs": [
    {
     "name": "stdout",
     "output_type": "stream",
     "text": [
      "(768, 8)\n",
      "(8, 768)\n"
     ]
    }
   ],
   "source": [
    "print(data_x.shape)\n",
    "print(data_x.T.shape)"
   ]
  },
  {
   "cell_type": "code",
   "execution_count": 6,
   "metadata": {},
   "outputs": [],
   "source": [
    "X_train=data_x_scaled.T\n",
    "y_train=data_y.reshape(1,768)"
   ]
  },
  {
   "cell_type": "markdown",
   "metadata": {},
   "source": [
    "### Cross Entropy loss"
   ]
  },
  {
   "cell_type": "code",
   "execution_count": 190,
   "metadata": {},
   "outputs": [],
   "source": [
    "def compute_loss(Y, Y_hat):\n",
    "\n",
    "    m = Y.shape[1]\n",
    "    L = -(1./m) * ( np.sum( np.multiply(np.log(Y_hat),Y) ) + np.sum( np.multiply(np.log(1-Y_hat),(1-Y)) ) )\n",
    "\n",
    "    return L"
   ]
  },
  {
   "cell_type": "code",
   "execution_count": 341,
   "metadata": {},
   "outputs": [],
   "source": [
    "X = X_train\n",
    "Y = y_train\n",
    "\n",
    "n_x = X.shape[0]\n",
    "n_h = 2*n_x\n",
    "learning_rate = 0.2\n"
   ]
  },
  {
   "cell_type": "code",
   "execution_count": 388,
   "metadata": {},
   "outputs": [],
   "source": [
    "def neuralnet(activation,derivative,epochs):\n",
    "    np.random.seed(101)\n",
    "    W1 = np.random.randn(n_h, n_x)*np.sqrt(2/n_x)\n",
    "    b1 = np.zeros((n_h, 1))\n",
    "    W2 = np.random.randn(1, n_h)*np.sqrt(2/n_h)\n",
    "    b2 = np.zeros((1, 1))\n",
    "    act=activation\n",
    "    der=derivative\n",
    "\n",
    "    for i in range(epochs):\n",
    "\n",
    "        Z1 = np.matmul(W1, X) + b1\n",
    "        A1 = act(Z1)\n",
    "        Z2 = np.matmul(W2, A1) + b2\n",
    "        A2 = sigmoid(Z2)\n",
    "\n",
    "        cost = compute_loss(Y, A2)\n",
    "\n",
    "        dZ2 = A2-Y\n",
    "        dW2 = (1./m) * np.matmul(dZ2, A1.T)\n",
    "        db2 = (1./m) * np.sum(dZ2, axis=1, keepdims=True)\n",
    "\n",
    "        dA1 = np.matmul(W2.T, dZ2)\n",
    "        dZ1 = dA1* der(Z1)\n",
    "        dW1 = (1./m) * np.matmul(dZ1, X.T)\n",
    "        db1 = (1./m) * np.sum(dZ1, axis=1, keepdims=True)\n",
    "\n",
    "        W2 = W2 - learning_rate * dW2\n",
    "        b2 = b2 - learning_rate * db2\n",
    "        W1 = W1 - learning_rate * dW1\n",
    "        b1 = b1 - learning_rate * db1\n",
    "\n",
    "        if i % 1000 == 0:\n",
    "            print(\"Epoch\", i, \"cost: \", cost)\n",
    "\n",
    "    print(\"Final cost:\", cost)\n",
    "    \n",
    "    Z1 = np.matmul(W1, X_train) + b1\n",
    "    A1 = act(Z1)\n",
    "    Z2 = np.matmul(W2, A1) + b2\n",
    "    A2 = sigmoid(Z2)\n",
    "\n",
    "    predictions = (A2>.5)[0,:]\n",
    "    labels = (y_train == 1)[0,:]\n",
    "    print(confusion_matrix(predictions, labels))\n",
    "    print(classification_report(predictions, labels))\n",
    "    print('Accuracy =' , accuracy_score(labels, predictions))"
   ]
  },
  {
   "cell_type": "code",
   "execution_count": 374,
   "metadata": {},
   "outputs": [],
   "source": [
    "def sigmoid(z):\n",
    "    s = 1 / (1 + np.exp(-z))\n",
    "    return s\n",
    "def der_sigmoid(z):\n",
    "    s= sigmoid(z) * (1 - sigmoid(z))\n",
    "    return s"
   ]
  },
  {
   "cell_type": "code",
   "execution_count": 391,
   "metadata": {},
   "outputs": [
    {
     "name": "stdout",
     "output_type": "stream",
     "text": [
      "Epoch 0 cost:  0.8868684619934128\n",
      "Epoch 1000 cost:  0.4551600128917266\n",
      "Epoch 2000 cost:  0.4431393976503132\n",
      "Epoch 3000 cost:  0.43379838536746596\n",
      "Epoch 4000 cost:  0.4230327577937586\n",
      "Epoch 5000 cost:  0.4126611329780337\n",
      "Epoch 6000 cost:  0.40258432490284823\n",
      "Epoch 7000 cost:  0.39402331804922147\n",
      "Epoch 8000 cost:  0.3868843960357709\n",
      "Epoch 9000 cost:  0.3807793727494434\n",
      "Epoch 10000 cost:  0.3751514105273869\n",
      "Epoch 11000 cost:  0.3695615070263004\n",
      "Epoch 12000 cost:  0.3631341400157991\n",
      "Epoch 13000 cost:  0.355139142501943\n",
      "Epoch 14000 cost:  0.34733460144953404\n",
      "Epoch 15000 cost:  0.3393775976685996\n",
      "Epoch 16000 cost:  0.3310747968737648\n",
      "Epoch 17000 cost:  0.32299151124682945\n",
      "Epoch 18000 cost:  0.3164564818463449\n",
      "Epoch 19000 cost:  0.3108649551218648\n",
      "Final cost: 0.3057873769621363\n",
      "[[456  61]\n",
      " [ 44 207]]\n",
      "             precision    recall  f1-score   support\n",
      "\n",
      "      False       0.91      0.88      0.90       517\n",
      "       True       0.77      0.82      0.80       251\n",
      "\n",
      "avg / total       0.87      0.86      0.86       768\n",
      "\n",
      "Accuracy = 0.86328125\n",
      "CPU times: user 10.7 s, sys: 59.8 ms, total: 10.7 s\n",
      "Wall time: 5.47 s\n"
     ]
    }
   ],
   "source": [
    "%%time\n",
    "neuralnet(sigmoid,der_sigmoid,20000)\n"
   ]
  },
  {
   "cell_type": "markdown",
   "metadata": {},
   "source": [
    "### Piecewise linear function (k=4)"
   ]
  },
  {
   "cell_type": "code",
   "execution_count": 345,
   "metadata": {},
   "outputs": [],
   "source": [
    "from numpy import vectorize\n",
    "def piecewise_linear_4(x):\n",
    "    if x<=-2:\n",
    "        y=0\n",
    "    elif ((x>-2)&(x<0)):\n",
    "        y=(x/4)-2\n",
    "    elif ((x>0) & (x<2)):\n",
    "        y=(x/4)+1/2\n",
    "    elif x>=2:\n",
    "        y=1\n",
    "    return y\n",
    "pwl_4 = vectorize(piecewise_linear_4)\n",
    "\n",
    "#derivative definition\n",
    "def piecewise_linear_4_der(x):\n",
    "    if x<=-2:\n",
    "        y=0\n",
    "    elif ((x>-2)&(x<0)):\n",
    "        y=1/4\n",
    "    elif ((x>0) & (x<2)):\n",
    "        y=1/4\n",
    "    elif x>=2:\n",
    "        y=0\n",
    "    return y\n",
    "pwl_4_der= vectorize(piecewise_linear_4_der)"
   ]
  },
  {
   "cell_type": "code",
   "execution_count": 392,
   "metadata": {},
   "outputs": [
    {
     "name": "stdout",
     "output_type": "stream",
     "text": [
      "Epoch 0 cost:  1.0596049100656253\n",
      "Epoch 1000 cost:  0.48093041738419684\n",
      "Epoch 2000 cost:  0.47360109819481067\n",
      "Epoch 3000 cost:  0.4750396982184158\n",
      "Epoch 4000 cost:  0.47869013062753557\n",
      "Epoch 5000 cost:  0.47808341813847643\n",
      "Epoch 6000 cost:  0.47947331028856877\n",
      "Epoch 7000 cost:  0.47858176370035865\n",
      "Epoch 8000 cost:  0.48037103662268466\n",
      "Epoch 9000 cost:  0.4801357434682837\n",
      "Epoch 10000 cost:  0.47821915780084756\n",
      "Epoch 11000 cost:  0.4753717204268402\n",
      "Epoch 12000 cost:  0.47508101683690285\n",
      "Epoch 13000 cost:  0.4742212189970463\n",
      "Epoch 14000 cost:  0.4741272734710815\n",
      "Epoch 15000 cost:  0.4769135703477567\n",
      "Epoch 16000 cost:  0.4759321649501502\n",
      "Epoch 17000 cost:  0.4731783132726015\n",
      "Epoch 18000 cost:  0.47471363757723595\n",
      "Epoch 19000 cost:  0.47982315624374855\n",
      "Final cost: 0.4795374635658467\n",
      "[[437 103]\n",
      " [ 63 165]]\n",
      "             precision    recall  f1-score   support\n",
      "\n",
      "      False       0.87      0.81      0.84       540\n",
      "       True       0.62      0.72      0.67       228\n",
      "\n",
      "avg / total       0.80      0.78      0.79       768\n",
      "\n",
      "Accuracy = 0.7838541666666666\n",
      "CPU times: user 4min 18s, sys: 1.23 s, total: 4min 20s\n",
      "Wall time: 2min 12s\n"
     ]
    }
   ],
   "source": [
    "%%time\n",
    "neuralnet(pwl_4,pwl_4_der,20000)"
   ]
  },
  {
   "cell_type": "markdown",
   "metadata": {},
   "source": [
    "### Piecewise linear function (k=6)"
   ]
  },
  {
   "cell_type": "code",
   "execution_count": 377,
   "metadata": {},
   "outputs": [],
   "source": [
    "def piecewise_linear_6(x):\n",
    "    if x<=-4:\n",
    "        y=0\n",
    "    elif ((x>-4)&(x<=-2)):\n",
    "        y=0.05*x+0.2\n",
    "    elif ((x>-2) & (x<=0)):\n",
    "        y=0.20*x+0.5\n",
    "    elif ((x>0) & (x<=2)):\n",
    "        y=0.20*x+0.5\n",
    "    elif ((x>2) & (x<=4)):\n",
    "        y=0.05*x+0.8\n",
    "    elif x>4:\n",
    "        y=1\n",
    "    return y\n",
    "pwl_6 = vectorize(piecewise_linear_6)\n",
    "def piecewise_linear_6_der(x):\n",
    "    if x<=-4:\n",
    "        y=0\n",
    "    elif ((x>-4)&(x<=-2)):\n",
    "        y=0.05\n",
    "    elif ((x>-2) & (x<=0)):\n",
    "        y=0.20\n",
    "    elif ((x>0) & (x<=2)):\n",
    "        y=0.20\n",
    "    elif ((x>2) & (x<=4)):\n",
    "        y=0.05\n",
    "    elif x>4:\n",
    "        y=0\n",
    "    return y\n",
    "pwl_6_der= vectorize(piecewise_linear_6_der)"
   ]
  },
  {
   "cell_type": "code",
   "execution_count": 395,
   "metadata": {},
   "outputs": [
    {
     "name": "stdout",
     "output_type": "stream",
     "text": [
      "Epoch 0 cost:  0.8845800900977527\n",
      "Epoch 1000 cost:  0.45668748796353487\n",
      "Epoch 2000 cost:  0.4472940349761423\n",
      "Epoch 3000 cost:  0.4404678840499182\n",
      "Epoch 4000 cost:  0.43131146801038267\n",
      "Epoch 5000 cost:  0.4202072601093601\n",
      "Epoch 6000 cost:  0.4127197498529249\n",
      "Epoch 7000 cost:  0.4064536825779002\n",
      "Epoch 8000 cost:  0.40076633994874694\n",
      "Epoch 9000 cost:  0.39675079577064404\n",
      "Epoch 10000 cost:  0.39378217360506074\n",
      "Epoch 11000 cost:  0.39140454235925937\n",
      "Epoch 12000 cost:  0.3896018433524664\n",
      "Epoch 13000 cost:  0.3882110799127636\n",
      "Epoch 14000 cost:  0.38652334504557695\n",
      "Epoch 15000 cost:  0.38507816425153757\n",
      "Epoch 16000 cost:  0.3832563283439386\n",
      "Epoch 17000 cost:  0.38097974817047975\n",
      "Epoch 18000 cost:  0.37817352736390186\n",
      "Epoch 19000 cost:  0.3758050315160476\n",
      "Final cost: 0.37420467615110076\n",
      "[[445  80]\n",
      " [ 55 188]]\n",
      "             precision    recall  f1-score   support\n",
      "\n",
      "      False       0.89      0.85      0.87       525\n",
      "       True       0.70      0.77      0.74       243\n",
      "\n",
      "avg / total       0.83      0.82      0.83       768\n",
      "\n",
      "Accuracy = 0.82421875\n",
      "CPU times: user 5min 29s, sys: 2.64 s, total: 5min 32s\n",
      "Wall time: 3min 1s\n"
     ]
    }
   ],
   "source": [
    "%%time\n",
    "neuralnet(pwl_6,pwl_6_der,20000)"
   ]
  },
  {
   "cell_type": "markdown",
   "metadata": {},
   "source": [
    "### Piecewise linear function (k=8)"
   ]
  },
  {
   "cell_type": "code",
   "execution_count": 379,
   "metadata": {},
   "outputs": [],
   "source": [
    "def piecewise_linear_8(x):\n",
    "    if x<=-4:\n",
    "        y=0\n",
    "    elif ((x>-4)&(x<=-2.6)):\n",
    "        y=0.05*x+0.2\n",
    "    elif ((x>-2.6) & (x<=-1.3)):\n",
    "        y=0.1*x+0.35\n",
    "    elif ((x>-1.3) & (x<=0)):\n",
    "        y=0.22*x+0.5\n",
    "    elif ((x>0) & (x<=1.3)):\n",
    "        y=0.22*x+0.5\n",
    "    elif ((x>1.3) & (x<=2.6)):\n",
    "        y=0.1*x+0.7\n",
    "    elif ((x>2.6) & (x<=4)):\n",
    "        y=0.06*x+0.7\n",
    "    elif x>4:\n",
    "        y=1\n",
    "    return y\n",
    "pwl_8 = vectorize(piecewise_linear_8)\n",
    "\n",
    "def piecewise_linear_8_der(x):\n",
    "    if x<=-4:\n",
    "        y=0\n",
    "    elif ((x>-4)&(x<=-2.6)):\n",
    "        y=0.05\n",
    "    elif ((x>-2.6) & (x<=-1.3)):\n",
    "        y=0.1\n",
    "    elif ((x>-1.3) & (x<=0)):\n",
    "        y=0.22\n",
    "    elif ((x>0) & (x<=1.3)):\n",
    "        y=0.22\n",
    "    elif ((x>1.3) & (x<=2.6)):\n",
    "        y=0.1\n",
    "    elif ((x>2.6) & (x<=4)):\n",
    "        y=0.06\n",
    "    elif x>4:\n",
    "        y=0\n",
    "    return y\n",
    "pwl_8_der= vectorize(piecewise_linear_8_der)"
   ]
  },
  {
   "cell_type": "code",
   "execution_count": 396,
   "metadata": {},
   "outputs": [
    {
     "name": "stdout",
     "output_type": "stream",
     "text": [
      "Epoch 0 cost:  0.885528880531426\n",
      "Epoch 1000 cost:  0.4577393012712097\n",
      "Epoch 2000 cost:  0.44590035553928165\n",
      "Epoch 3000 cost:  0.43600020959032554\n",
      "Epoch 4000 cost:  0.4272419684688217\n",
      "Epoch 5000 cost:  0.41861171536510666\n",
      "Epoch 6000 cost:  0.41179963882483006\n",
      "Epoch 7000 cost:  0.4056843564232922\n",
      "Epoch 8000 cost:  0.3995863378263771\n",
      "Epoch 9000 cost:  0.3937643426443278\n",
      "Epoch 10000 cost:  0.3877496132620789\n",
      "Epoch 11000 cost:  0.3849123071664967\n",
      "Epoch 12000 cost:  0.3832507410670068\n",
      "Epoch 13000 cost:  0.3798992077859069\n",
      "Epoch 14000 cost:  0.37728004575979157\n",
      "Epoch 15000 cost:  0.37390513436699835\n",
      "Epoch 16000 cost:  0.3675005252092878\n",
      "Epoch 17000 cost:  0.3636962789294785\n",
      "Epoch 18000 cost:  0.3602305731935407\n",
      "Epoch 19000 cost:  0.35802023689807744\n",
      "Final cost: 0.35687949558350684\n",
      "[[448  70]\n",
      " [ 52 198]]\n",
      "             precision    recall  f1-score   support\n",
      "\n",
      "      False       0.90      0.86      0.88       518\n",
      "       True       0.74      0.79      0.76       250\n",
      "\n",
      "avg / total       0.84      0.84      0.84       768\n",
      "\n",
      "Accuracy = 0.8411458333333334\n",
      "CPU times: user 5min 32s, sys: 1.62 s, total: 5min 33s\n",
      "Wall time: 2min 50s\n"
     ]
    }
   ],
   "source": [
    "%%time\n",
    "neuralnet(pwl_8,pwl_8_der,20000)"
   ]
  },
  {
   "cell_type": "markdown",
   "metadata": {},
   "source": [
    "### Piecewise linear function (k=10)"
   ]
  },
  {
   "cell_type": "code",
   "execution_count": 381,
   "metadata": {},
   "outputs": [],
   "source": [
    "def piecewise_linear_10(x):\n",
    "    if x<=-4:\n",
    "        y=0\n",
    "    elif ((x>-4)&(x<=-3)):\n",
    "        y= 0.0470*x + 0.18\n",
    "    elif ((x>-3) & (x<=-2)):\n",
    "        y= 0.0720*x + 0.26\n",
    "    elif ((x>-2) & (x<=-1)):\n",
    "        y= 0.1490*x + 0.41\n",
    "    elif ((x>-1) & (x<=0)):\n",
    "        y=0.2320*x + 0.5\n",
    "    elif ((x>0) & (x<=1)):\n",
    "        y= 0.2300*x + 0.5\n",
    "    elif ((x>1) & (x<=2)):\n",
    "        y= 0.1500*x + 0.58\n",
    "    elif ((x>2) & (x<=3)):\n",
    "        y=0.0700*x + 0.74\n",
    "    elif ((x>3) & (x<=4)):\n",
    "        y=0.050*x + 0.8\n",
    "    elif x>4:\n",
    "        y=1\n",
    "    return y\n",
    "pwl_10 = vectorize(piecewise_linear_10)\n",
    "\n",
    "def piecewise_linear_10_der(x):\n",
    "    if x<=-4:\n",
    "        y=0\n",
    "    elif ((x>-4)&(x<=-3)):\n",
    "        y= 0.0470\n",
    "    elif ((x>-3) & (x<=-2)):\n",
    "        y= 0.0720\n",
    "    elif ((x>-2) & (x<=-1)):\n",
    "        y= 0.1490\n",
    "    elif ((x>-1) & (x<=0)):\n",
    "        y=0.2320\n",
    "    elif ((x>0) & (x<=1)):\n",
    "        y= 0.2300\n",
    "    elif ((x>1) & (x<=2)):\n",
    "        y= 0.1500\n",
    "    elif ((x>2) & (x<=3)):\n",
    "        y=0.0700\n",
    "    elif ((x>3) & (x<=4)):\n",
    "        y=0.050\n",
    "    elif x>4:\n",
    "        y=0\n",
    "    return y\n",
    "pwl_10_der= vectorize(piecewise_linear_10_der)"
   ]
  },
  {
   "cell_type": "code",
   "execution_count": 397,
   "metadata": {},
   "outputs": [
    {
     "name": "stdout",
     "output_type": "stream",
     "text": [
      "Epoch 0 cost:  0.8858123004631412\n",
      "Epoch 1000 cost:  0.45605690205512406\n",
      "Epoch 2000 cost:  0.4445590631573435\n",
      "Epoch 3000 cost:  0.4337201536802002\n",
      "Epoch 4000 cost:  0.4230871808324803\n",
      "Epoch 5000 cost:  0.41587594796870225\n",
      "Epoch 6000 cost:  0.40988587814111593\n",
      "Epoch 7000 cost:  0.40528206115550686\n",
      "Epoch 8000 cost:  0.40126895059329715\n",
      "Epoch 9000 cost:  0.39715026310669505\n",
      "Epoch 10000 cost:  0.39294127883835844\n",
      "Epoch 11000 cost:  0.38943064738912875\n",
      "Epoch 12000 cost:  0.38538741192259307\n",
      "Epoch 13000 cost:  0.3819462800740605\n",
      "Epoch 14000 cost:  0.37830605505415793\n",
      "Epoch 15000 cost:  0.37464583574960786\n",
      "Epoch 16000 cost:  0.36998047484500085\n",
      "Epoch 17000 cost:  0.3636173443827898\n",
      "Epoch 18000 cost:  0.35770375716542924\n",
      "Epoch 19000 cost:  0.3516327188058102\n",
      "Final cost: 0.34580556002841367\n",
      "[[446  74]\n",
      " [ 54 194]]\n",
      "             precision    recall  f1-score   support\n",
      "\n",
      "      False       0.89      0.86      0.87       520\n",
      "       True       0.72      0.78      0.75       248\n",
      "\n",
      "avg / total       0.84      0.83      0.83       768\n",
      "\n",
      "Accuracy = 0.8333333333333334\n",
      "CPU times: user 7min 19s, sys: 3.2 s, total: 7min 22s\n",
      "Wall time: 3min 52s\n"
     ]
    }
   ],
   "source": [
    "%%time\n",
    "neuralnet(pwl_10,pwl_10_der,20000)"
   ]
  },
  {
   "cell_type": "markdown",
   "metadata": {},
   "source": [
    "### Piecewise linear function (k=12)"
   ]
  },
  {
   "cell_type": "code",
   "execution_count": 383,
   "metadata": {},
   "outputs": [],
   "source": [
    "def piecewise_linear_12(x):\n",
    "    if x<=-4:\n",
    "        y=0\n",
    "    elif ((x>-4)&(x<=-3.2)):\n",
    "        y= 0.0500*x + 0.2\n",
    "    elif ((x>-3.2) & (x<=-2.4)):\n",
    "        y=0.0500*x + 0.2\n",
    "    elif ((x>-2.4) & (x<=-1.6)):\n",
    "        y=0.1*x + 0.32\n",
    "    elif ((x>-1.6) & (x<=-0.8)):\n",
    "        y=0.175*x + 0.44\n",
    "    elif ((x>-0.8) & (x<=0)):\n",
    "        y=0.22*x + 0.5\n",
    "    elif ((x>0) & (x<=0.8)):\n",
    "        y=0.23*x + 0.5\n",
    "    elif ((x>0.8) & (x<=1.6)):\n",
    "        y=0.1250*x + 0.6\n",
    "    elif ((x>1.6) & (x<=2.4)):\n",
    "        y= 0.1000*x + 0.67\n",
    "    elif ((x>2.4) & (x<=3.2)):\n",
    "        y= 0.0625*x + 0.76\n",
    "    elif ((x>3.2) & (x<=4)):\n",
    "        y=0.05000*x + 0.8\n",
    "    elif x>4:\n",
    "        y=1\n",
    "    return y\n",
    "pwl_12 = vectorize(piecewise_linear_12)\n",
    "\n",
    "def piecewise_linear_12_der(x):\n",
    "    if x<=-4:\n",
    "        y=0\n",
    "    elif ((x>-4)&(x<=-3.2)):\n",
    "        y= 0.0500\n",
    "    elif ((x>-3.2) & (x<=-2.4)):\n",
    "        y=0.0500\n",
    "    elif ((x>-2.4) & (x<=-1.6)):\n",
    "        y=0.1\n",
    "    elif ((x>-1.6) & (x<=-0.8)):\n",
    "        y=0.175\n",
    "    elif ((x>-0.8) & (x<=0)):\n",
    "        y=0.22\n",
    "    elif ((x>0) & (x<=0.8)):\n",
    "        y=0.23\n",
    "    elif ((x>0.8) & (x<=1.6)):\n",
    "        y=0.1250\n",
    "    elif ((x>1.6) & (x<=2.4)):\n",
    "        y= 0.1000\n",
    "    elif ((x>2.4) & (x<=3.2)):\n",
    "        y= 0.0625\n",
    "    elif ((x>3.2) & (x<=4)):\n",
    "        y=0.05000\n",
    "    elif x>4:\n",
    "        y=0\n",
    "    return y\n",
    "pwl_12_der= vectorize(piecewise_linear_12_der)"
   ]
  },
  {
   "cell_type": "code",
   "execution_count": 398,
   "metadata": {},
   "outputs": [
    {
     "name": "stdout",
     "output_type": "stream",
     "text": [
      "Epoch 0 cost:  0.8853227618385362\n",
      "Epoch 1000 cost:  0.4578301327718933\n",
      "Epoch 2000 cost:  0.4466649404017021\n",
      "Epoch 3000 cost:  0.43750692110803346\n",
      "Epoch 4000 cost:  0.4288830796774297\n",
      "Epoch 5000 cost:  0.42056331987016526\n",
      "Epoch 6000 cost:  0.4121170259154292\n",
      "Epoch 7000 cost:  0.405692214997865\n",
      "Epoch 8000 cost:  0.3985543392393636\n",
      "Epoch 9000 cost:  0.39140146326363806\n",
      "Epoch 10000 cost:  0.386552223116022\n",
      "Epoch 11000 cost:  0.3834075073049397\n",
      "Epoch 12000 cost:  0.3805250341993179\n",
      "Epoch 13000 cost:  0.37807657085207114\n",
      "Epoch 14000 cost:  0.37609876184433794\n",
      "Epoch 15000 cost:  0.37457657217177254\n",
      "Epoch 16000 cost:  0.3727741334225094\n",
      "Epoch 17000 cost:  0.3700109458545325\n",
      "Epoch 18000 cost:  0.3680779861216945\n",
      "Epoch 19000 cost:  0.3661408775073516\n",
      "Final cost: 0.3638665612245389\n",
      "[[449  81]\n",
      " [ 51 187]]\n",
      "             precision    recall  f1-score   support\n",
      "\n",
      "      False       0.90      0.85      0.87       530\n",
      "       True       0.70      0.79      0.74       238\n",
      "\n",
      "avg / total       0.84      0.83      0.83       768\n",
      "\n",
      "Accuracy = 0.828125\n",
      "CPU times: user 6min 55s, sys: 1.78 s, total: 6min 56s\n",
      "Wall time: 3min 31s\n"
     ]
    }
   ],
   "source": [
    "%%time\n",
    "neuralnet(pwl_12,pwl_12_der,20000)"
   ]
  },
  {
   "cell_type": "markdown",
   "metadata": {},
   "source": [
    "### Piecewise linear function (k=14)"
   ]
  },
  {
   "cell_type": "code",
   "execution_count": 385,
   "metadata": {},
   "outputs": [],
   "source": [
    "def piecewise_linear_14(x):\n",
    "    if x<=-4:\n",
    "        y=0\n",
    "    elif ((x>-4)&(x<=-3.3)):\n",
    "        y= 0.05*x + 0.2\n",
    "    elif ((x>-3.3) & (x<=-2.64)):\n",
    "        y= 0.04697*x + 0.19\n",
    "    elif ((x>-2.64) & (x<=-1.98)):\n",
    "        y= 0.08333*x + 0.28\n",
    "    elif ((x>-1.98) & (x<=-1.32)):\n",
    "        y= 0.1348*x + 0.38\n",
    "    elif ((x>-1.32) & (x<=-0.66)):\n",
    "        y=0.1970*x + 0.47\n",
    "    elif ((x>-0.66) & (x<=0)):\n",
    "        y=0.2424*x + 0.5\n",
    "    elif ((x>0) & (x<=0.66)):\n",
    "        y=0.2273*x + 0.5\n",
    "    elif ((x>0.66) & (x<=1.32)):\n",
    "        y= 0.1970*x + 0.5\n",
    "    elif ((x>1.32) & (x<=1.98)):\n",
    "        y=0.1364*x + 0.6\n",
    "    elif ((x>1.98) & (x<=2.64)):\n",
    "        y=0.09091*x + 0.69\n",
    "    elif ((x>2.64) & (x<=3.3)):\n",
    "        y= 0.04545*x + 0.8\n",
    "    elif ((x>3.3) & (x<=4)):\n",
    "        y=0.05714*x + 0.77\n",
    "    elif x>4:\n",
    "        y=1\n",
    "    return y\n",
    "pwl_14 = vectorize(piecewise_linear_14)\n",
    "\n",
    "def piecewise_linear_14_der(x):\n",
    "    if x<=-4:\n",
    "        y=0\n",
    "    elif ((x>-4)&(x<=-3.3)):\n",
    "        y= 0.05\n",
    "    elif ((x>-3.3) & (x<=-2.64)):\n",
    "        y= 0.04697\n",
    "    elif ((x>-2.64) & (x<=-1.98)):\n",
    "        y= 0.08333\n",
    "    elif ((x>-1.98) & (x<=-1.32)):\n",
    "        y= 0.1348\n",
    "    elif ((x>-1.32) & (x<=-0.66)):\n",
    "        y=0.1970\n",
    "    elif ((x>-0.66) & (x<=0)):\n",
    "        y=0.2424\n",
    "    elif ((x>0) & (x<=0.66)):\n",
    "        y=0.2273\n",
    "    elif ((x>0.66) & (x<=1.32)):\n",
    "        y= 0.1970\n",
    "    elif ((x>1.32) & (x<=1.98)):\n",
    "        y=0.1364\n",
    "    elif ((x>1.98) & (x<=2.64)):\n",
    "        y=0.09091\n",
    "    elif ((x>2.64) & (x<=3.3)):\n",
    "        y= 0.04545\n",
    "    elif ((x>3.3) & (x<=4)):\n",
    "        y=0.05714\n",
    "    elif x>4:\n",
    "        y=0\n",
    "    return y\n",
    "pwl_14_der= vectorize(piecewise_linear_14_der)"
   ]
  },
  {
   "cell_type": "code",
   "execution_count": 399,
   "metadata": {},
   "outputs": [
    {
     "name": "stdout",
     "output_type": "stream",
     "text": [
      "Epoch 0 cost:  0.8827934639783532\n",
      "Epoch 1000 cost:  0.4558364304298477\n",
      "Epoch 2000 cost:  0.4453638610000218\n",
      "Epoch 3000 cost:  0.4361698046572098\n",
      "Epoch 4000 cost:  0.42631015509825604\n",
      "Epoch 5000 cost:  0.4170864096260227\n",
      "Epoch 6000 cost:  0.4088598596413058\n",
      "Epoch 7000 cost:  0.40306864332237113\n",
      "Epoch 8000 cost:  0.3981013672689292\n",
      "Epoch 9000 cost:  0.3929929482852894\n",
      "Epoch 10000 cost:  0.3884021990992073\n",
      "Epoch 11000 cost:  0.38418157729846253\n",
      "Epoch 12000 cost:  0.38095774576871283\n",
      "Epoch 13000 cost:  0.3774859505408159\n",
      "Epoch 14000 cost:  0.37446981952514946\n",
      "Epoch 15000 cost:  0.3717662552614881\n",
      "Epoch 16000 cost:  0.3688984227237718\n",
      "Epoch 17000 cost:  0.3652597168303922\n",
      "Epoch 18000 cost:  0.3613616381484808\n",
      "Epoch 19000 cost:  0.3564310378748857\n",
      "Final cost: 0.3519905505345262\n",
      "[[452  71]\n",
      " [ 48 197]]\n",
      "             precision    recall  f1-score   support\n",
      "\n",
      "      False       0.90      0.86      0.88       523\n",
      "       True       0.74      0.80      0.77       245\n",
      "\n",
      "avg / total       0.85      0.85      0.85       768\n",
      "\n",
      "Accuracy = 0.8450520833333334\n",
      "CPU times: user 8min, sys: 2.8 s, total: 8min 3s\n",
      "Wall time: 4min 11s\n"
     ]
    }
   ],
   "source": [
    "%%time\n",
    "neuralnet(pwl_14,pwl_14_der,20000)"
   ]
  },
  {
   "cell_type": "markdown",
   "metadata": {},
   "source": [
    "## Results on training set only\n",
    "This is an implementation of a single hidden layer neural network d-2d-1 with d inputs neurons, 2d hidden layer neurons and 1 output neuron. \n",
    "I have trained the model on PIMA Indians Diabetes dataset(Link:-https://www.kaggle.com/uciml/pima-indians-diabetes-database) from UCI Machine learning repository. The accuracy and metrics reported are training set accuracy only.\n",
    "\n",
    "After 20000 epochs, the following results(accuracy) were obtained:-\n",
    "1. Sigmoid activation- 0.86328125\n",
    "2. Piecewise Linear Fucntion activation (k=4) - 0.7838\n",
    "3. Piecewise Linear Fucntion activation (k=6) - 0.82421875\n",
    "4. Piecewise Linear Fucntion activation (k=8) - 0.8411\n",
    "5. Piecewise Linear Fucntion activation (k=10) - 0.8333\n",
    "6. Piecewise Linear Fucntion activation (k=12) - 0.828125\n",
    "7. Piecewise Linear Fucntion activation (k=14) - 0.8450"
   ]
  },
  {
   "cell_type": "markdown",
   "metadata": {},
   "source": [
    "Cost after 20,000 epochs is the following:- \n",
    "1. Sigmoid activation- 0.305\n",
    "2. Piecewise Linear Fucntion activation (k=4) - 0.479\n",
    "3. Piecewise Linear Fucntion activation (k=6) - 0.374204\n",
    "4. Piecewise Linear Fucntion activation (k=8) - 0.3568\n",
    "5. Piecewise Linear Fucntion activation (k=10) - 0.3458\n",
    "6. Piecewise Linear Fucntion activation (k=12) - 0.3638\n",
    "7. Piecewise Linear Fucntion activation (k=14) - 0.3519"
   ]
  },
  {
   "cell_type": "markdown",
   "metadata": {},
   "source": [
    "Time taken for 20000 epochs training \n",
    "1. Sigmoid activation- 10.7 s\n",
    "2. Piecewise Linear Fucntion activation (k=4) - 4min 20s\n",
    "3. Piecewise Linear Fucntion activation (k=6) - 5min 32s\n",
    "4. Piecewise Linear Fucntion activation (k=8) - 5min 33s\n",
    "5. Piecewise Linear Fucntion activation (k=10) - 7min 22s\n",
    "6. Piecewise Linear Fucntion activation (k=12) - 6min 56s \n",
    "7. Piecewise Linear Fucntion activation (k=14) - 8min 3s"
   ]
  },
  {
   "cell_type": "markdown",
   "metadata": {},
   "source": [
    "# With Test set"
   ]
  },
  {
   "cell_type": "code",
   "execution_count": 403,
   "metadata": {},
   "outputs": [],
   "source": [
    "X_train_1, X_test_1, y_train_1, y_test_1 = train_test_split(data_x_scaled, data_y, test_size=0.20, random_state=42)\n",
    "X_train_1= X_train_1.T\n",
    "y_train_1= y_train_1.reshape(1,614)\n",
    "X_test_1 =X_test_1.T\n",
    "y_test_1 =y_test_1.reshape(1,154)\n"
   ]
  },
  {
   "cell_type": "code",
   "execution_count": 404,
   "metadata": {},
   "outputs": [],
   "source": [
    "def neuralnet_1(activation,derivative,epochs):\n",
    "    X = X_train_1\n",
    "    Y = y_train_1\n",
    "    np.random.seed(101)\n",
    "    W1 = np.random.randn(n_h, n_x)*np.sqrt(2/n_x)\n",
    "    b1 = np.zeros((n_h, 1))\n",
    "    W2 = np.random.randn(1, n_h)*np.sqrt(2/n_h)\n",
    "    b2 = np.zeros((1, 1))\n",
    "    act=activation\n",
    "    der=derivative\n",
    "\n",
    "    for i in range(epochs):\n",
    "\n",
    "        Z1 = np.matmul(W1, X) + b1\n",
    "        A1 = act(Z1)\n",
    "        Z2 = np.matmul(W2, A1) + b2\n",
    "        A2 = sigmoid(Z2)\n",
    "\n",
    "        cost = compute_loss(Y, A2)\n",
    "\n",
    "        dZ2 = A2-Y\n",
    "        dW2 = (1./m) * np.matmul(dZ2, A1.T)\n",
    "        db2 = (1./m) * np.sum(dZ2, axis=1, keepdims=True)\n",
    "\n",
    "        dA1 = np.matmul(W2.T, dZ2)\n",
    "        dZ1 = dA1* der(Z1)\n",
    "        dW1 = (1./m) * np.matmul(dZ1, X.T)\n",
    "        db1 = (1./m) * np.sum(dZ1, axis=1, keepdims=True)\n",
    "\n",
    "        W2 = W2 - learning_rate * dW2\n",
    "        b2 = b2 - learning_rate * db2\n",
    "        W1 = W1 - learning_rate * dW1\n",
    "        b1 = b1 - learning_rate * db1\n",
    "\n",
    "        if i % 1000 == 0:\n",
    "            print(\"Epoch\", i, \"cost: \", cost)\n",
    "\n",
    "    print(\"Final cost:\", cost)\n",
    "    \n",
    "    Z1 = np.matmul(W1, X_test_1) + b1\n",
    "    A1 = act(Z1)\n",
    "    Z2 = np.matmul(W2, A1) + b2\n",
    "    A2 = sigmoid(Z2)\n",
    "\n",
    "    predictions = (A2>.5)[0,:]\n",
    "    labels = (y_test_1 == 1)[0,:]\n",
    "    print(confusion_matrix(predictions, labels))\n",
    "    print(classification_report(predictions, labels))\n",
    "    print('Accuracy =' , accuracy_score(labels, predictions))"
   ]
  },
  {
   "cell_type": "markdown",
   "metadata": {},
   "source": [
    "### Sigmoid hidden layer"
   ]
  },
  {
   "cell_type": "code",
   "execution_count": 412,
   "metadata": {},
   "outputs": [
    {
     "name": "stdout",
     "output_type": "stream",
     "text": [
      "Epoch 0 cost:  0.8826177564744794\n",
      "Epoch 1000 cost:  0.45170029298052283\n",
      "Epoch 2000 cost:  0.4385031317000155\n",
      "Epoch 3000 cost:  0.42970420312527746\n",
      "Epoch 4000 cost:  0.4193740501574361\n",
      "Epoch 5000 cost:  0.409145913610257\n",
      "Epoch 6000 cost:  0.4000822375231552\n",
      "Epoch 7000 cost:  0.3921565649483339\n",
      "Epoch 8000 cost:  0.38529754319909293\n",
      "Epoch 9000 cost:  0.37923638037672813\n",
      "Epoch 10000 cost:  0.3738248510785002\n",
      "Epoch 11000 cost:  0.3690010746886034\n",
      "Epoch 12000 cost:  0.36468415355047584\n",
      "Epoch 13000 cost:  0.3605253038592752\n",
      "Epoch 14000 cost:  0.3557673360323362\n",
      "Epoch 15000 cost:  0.3495705478068931\n",
      "Epoch 16000 cost:  0.34210663100888056\n",
      "Epoch 17000 cost:  0.33360668381259523\n",
      "Epoch 18000 cost:  0.3249612049049551\n",
      "Epoch 19000 cost:  0.31668150971719067\n",
      "Final cost: 0.30871103609999945\n",
      "[[78 24]\n",
      " [21 31]]\n",
      "             precision    recall  f1-score   support\n",
      "\n",
      "      False       0.79      0.76      0.78       102\n",
      "       True       0.56      0.60      0.58        52\n",
      "\n",
      "avg / total       0.71      0.71      0.71       154\n",
      "\n",
      "Accuracy = 0.7077922077922078\n",
      "CPU times: user 8.8 s, sys: 65 ms, total: 8.87 s\n",
      "Wall time: 4.53 s\n"
     ]
    }
   ],
   "source": [
    "%%time\n",
    "neuralnet_1(sigmoid,der_sigmoid,20000)"
   ]
  },
  {
   "cell_type": "markdown",
   "metadata": {},
   "source": [
    "### Piecewise linear function (k=4)"
   ]
  },
  {
   "cell_type": "code",
   "execution_count": 413,
   "metadata": {},
   "outputs": [
    {
     "name": "stdout",
     "output_type": "stream",
     "text": [
      "Epoch 0 cost:  0.8818873746538853\n",
      "Epoch 1000 cost:  0.5096882101814671\n",
      "Epoch 2000 cost:  0.5096881562640755\n",
      "Epoch 3000 cost:  0.5096881561844885\n",
      "Epoch 4000 cost:  0.509688156184371\n",
      "Epoch 5000 cost:  0.5096881561843708\n",
      "Epoch 6000 cost:  0.5096881561843708\n",
      "Epoch 7000 cost:  0.5096881561843708\n",
      "Epoch 8000 cost:  0.5096881561843708\n",
      "Epoch 9000 cost:  0.5096881561843708\n",
      "Epoch 10000 cost:  0.5096881561843708\n",
      "Epoch 11000 cost:  0.5096881561843708\n",
      "Epoch 12000 cost:  0.5096881561843708\n",
      "Epoch 13000 cost:  0.5096881561843708\n",
      "Epoch 14000 cost:  0.5096881561843708\n",
      "Epoch 15000 cost:  0.5096881561843708\n",
      "Epoch 16000 cost:  0.5096881561843708\n",
      "Epoch 17000 cost:  0.5096881561843708\n",
      "Epoch 18000 cost:  0.5096881561843708\n",
      "Epoch 19000 cost:  0.5096881561843708\n",
      "Final cost: 0.5096881561843708\n",
      "[[71 23]\n",
      " [28 32]]\n",
      "             precision    recall  f1-score   support\n",
      "\n",
      "      False       0.72      0.76      0.74        94\n",
      "       True       0.58      0.53      0.56        60\n",
      "\n",
      "avg / total       0.66      0.67      0.67       154\n",
      "\n",
      "Accuracy = 0.6688311688311688\n",
      "CPU times: user 3min 35s, sys: 924 ms, total: 3min 36s\n",
      "Wall time: 1min 49s\n"
     ]
    }
   ],
   "source": [
    "%%time\n",
    "neuralnet_1(pwl_4,pwl_4_der,20000)"
   ]
  },
  {
   "cell_type": "markdown",
   "metadata": {},
   "source": [
    "### Piecewise linear function (k=6)"
   ]
  },
  {
   "cell_type": "code",
   "execution_count": 414,
   "metadata": {},
   "outputs": [
    {
     "name": "stdout",
     "output_type": "stream",
     "text": [
      "Epoch 0 cost:  0.8805200707831126\n",
      "Epoch 1000 cost:  0.45205530532456817\n",
      "Epoch 2000 cost:  0.441360584862105\n",
      "Epoch 3000 cost:  0.43400240477653873\n",
      "Epoch 4000 cost:  0.4272213577895457\n",
      "Epoch 5000 cost:  0.41921008514503216\n",
      "Epoch 6000 cost:  0.4107145709930113\n",
      "Epoch 7000 cost:  0.40203857847085617\n",
      "Epoch 8000 cost:  0.3932722540553957\n",
      "Epoch 9000 cost:  0.38600584709985003\n",
      "Epoch 10000 cost:  0.38036655240216477\n",
      "Epoch 11000 cost:  0.3760641168854932\n",
      "Epoch 12000 cost:  0.37245558127917394\n",
      "Epoch 13000 cost:  0.3696482375747014\n",
      "Epoch 14000 cost:  0.3663774690733062\n",
      "Epoch 15000 cost:  0.36395092358440573\n",
      "Epoch 16000 cost:  0.36219071463497976\n",
      "Epoch 17000 cost:  0.3604252934497303\n",
      "Epoch 18000 cost:  0.35902947223199083\n",
      "Epoch 19000 cost:  0.35772572399515473\n",
      "Final cost: 0.3562666164489959\n",
      "[[79 20]\n",
      " [20 35]]\n",
      "             precision    recall  f1-score   support\n",
      "\n",
      "      False       0.80      0.80      0.80        99\n",
      "       True       0.64      0.64      0.64        55\n",
      "\n",
      "avg / total       0.74      0.74      0.74       154\n",
      "\n",
      "Accuracy = 0.7402597402597403\n",
      "CPU times: user 4min 14s, sys: 1.82 s, total: 4min 16s\n",
      "Wall time: 2min 11s\n"
     ]
    }
   ],
   "source": [
    "%%time\n",
    "neuralnet_1(pwl_6,pwl_6_der,20000)"
   ]
  },
  {
   "cell_type": "markdown",
   "metadata": {},
   "source": [
    "### Piecewise linear function (k=8)"
   ]
  },
  {
   "cell_type": "code",
   "execution_count": 415,
   "metadata": {},
   "outputs": [
    {
     "name": "stdout",
     "output_type": "stream",
     "text": [
      "Epoch 0 cost:  0.8814912052405025\n",
      "Epoch 1000 cost:  0.4546171818773781\n",
      "Epoch 2000 cost:  0.4399101995246463\n",
      "Epoch 3000 cost:  0.4313272956257116\n",
      "Epoch 4000 cost:  0.4204200115279583\n",
      "Epoch 5000 cost:  0.41062982712781537\n",
      "Epoch 6000 cost:  0.40168202038228784\n",
      "Epoch 7000 cost:  0.3949943873818688\n",
      "Epoch 8000 cost:  0.3901877602786974\n",
      "Epoch 9000 cost:  0.38465107136801735\n",
      "Epoch 10000 cost:  0.3797864857167854\n",
      "Epoch 11000 cost:  0.6563289977481872\n",
      "Epoch 12000 cost:  0.5960015112786757\n",
      "Epoch 13000 cost:  0.586713604643444\n",
      "Epoch 14000 cost:  0.5825164155643267\n",
      "Epoch 15000 cost:  0.5807423264372055\n",
      "Epoch 16000 cost:  0.5800128807131464\n",
      "Epoch 17000 cost:  0.5797007152311695\n",
      "Epoch 18000 cost:  0.5795580990363449\n",
      "Epoch 19000 cost:  0.5794875081016301\n",
      "Final cost: 0.5794488022547432\n",
      "[[72 21]\n",
      " [27 34]]\n",
      "             precision    recall  f1-score   support\n",
      "\n",
      "      False       0.73      0.77      0.75        93\n",
      "       True       0.62      0.56      0.59        61\n",
      "\n",
      "avg / total       0.68      0.69      0.69       154\n",
      "\n",
      "Accuracy = 0.6883116883116883\n",
      "CPU times: user 4min 39s, sys: 1.96 s, total: 4min 41s\n",
      "Wall time: 2min 24s\n"
     ]
    }
   ],
   "source": [
    "%%time\n",
    "neuralnet_1(pwl_8,pwl_8_der,20000)"
   ]
  },
  {
   "cell_type": "markdown",
   "metadata": {},
   "source": [
    "### Piecewise linear function (k=10)"
   ]
  },
  {
   "cell_type": "code",
   "execution_count": 416,
   "metadata": {},
   "outputs": [
    {
     "name": "stdout",
     "output_type": "stream",
     "text": [
      "Epoch 0 cost:  0.8815936010343659\n",
      "Epoch 1000 cost:  0.4525293510224265\n",
      "Epoch 2000 cost:  0.43937176820616497\n",
      "Epoch 3000 cost:  0.43041317385226546\n",
      "Epoch 4000 cost:  0.4205590734562757\n",
      "Epoch 5000 cost:  0.6248654724606356\n",
      "Epoch 6000 cost:  0.6121170938649125\n",
      "Epoch 7000 cost:  0.6077005203980033\n",
      "Epoch 8000 cost:  0.6055430816274949\n",
      "Epoch 9000 cost:  0.6044051922882407\n",
      "Epoch 10000 cost:  0.6037455462549146\n",
      "Epoch 11000 cost:  0.6033198915740974\n",
      "Epoch 12000 cost:  0.6030200097013609\n",
      "Epoch 13000 cost:  0.6027953832413481\n",
      "Epoch 14000 cost:  0.6026200930600106\n",
      "Epoch 15000 cost:  0.6024794183862809\n",
      "Epoch 16000 cost:  0.6023642231045625\n",
      "Epoch 17000 cost:  0.6022684284949416\n",
      "Epoch 18000 cost:  0.6021877741513265\n",
      "Epoch 19000 cost:  0.6021191569414158\n",
      "Final cost: 0.6020603052773791\n",
      "[[28  3]\n",
      " [71 52]]\n",
      "             precision    recall  f1-score   support\n",
      "\n",
      "      False       0.28      0.90      0.43        31\n",
      "       True       0.95      0.42      0.58       123\n",
      "\n",
      "avg / total       0.81      0.52      0.55       154\n",
      "\n",
      "Accuracy = 0.5194805194805194\n",
      "CPU times: user 6min 1s, sys: 2.47 s, total: 6min 4s\n",
      "Wall time: 3min 7s\n"
     ]
    }
   ],
   "source": [
    "%%time\n",
    "neuralnet_1(pwl_10,pwl_10_der,20000)"
   ]
  },
  {
   "cell_type": "markdown",
   "metadata": {},
   "source": [
    "### Piecewise linear function (k=12)"
   ]
  },
  {
   "cell_type": "code",
   "execution_count": 417,
   "metadata": {},
   "outputs": [
    {
     "name": "stdout",
     "output_type": "stream",
     "text": [
      "Epoch 0 cost:  0.8811576177900142\n",
      "Epoch 1000 cost:  0.4541869243068809\n",
      "Epoch 2000 cost:  0.4409038565480759\n",
      "Epoch 3000 cost:  0.4331581045766795\n",
      "Epoch 4000 cost:  0.42487246710201687\n",
      "Epoch 5000 cost:  0.416248694995148\n",
      "Epoch 6000 cost:  0.4093766562273735\n",
      "Epoch 7000 cost:  0.4023850311445431\n",
      "Epoch 8000 cost:  0.39741628194357326\n",
      "Epoch 9000 cost:  0.3921043213540893\n",
      "Epoch 10000 cost:  0.3872863033188964\n",
      "Epoch 11000 cost:  0.38383943766158835\n",
      "Epoch 12000 cost:  0.38024700192491295\n",
      "Epoch 13000 cost:  0.3758601939898355\n",
      "Epoch 14000 cost:  0.37189778300892706\n",
      "Epoch 15000 cost:  0.3685503787635239\n",
      "Epoch 16000 cost:  0.3656577105454712\n",
      "Epoch 17000 cost:  0.36316801419728384\n",
      "Epoch 18000 cost:  0.35763463640194976\n",
      "Epoch 19000 cost:  0.352755244390978\n",
      "Final cost: 0.3492045974961631\n",
      "[[77 19]\n",
      " [22 36]]\n",
      "             precision    recall  f1-score   support\n",
      "\n",
      "      False       0.78      0.80      0.79        96\n",
      "       True       0.65      0.62      0.64        58\n",
      "\n",
      "avg / total       0.73      0.73      0.73       154\n",
      "\n",
      "Accuracy = 0.7337662337662337\n",
      "CPU times: user 5min 41s, sys: 2.1 s, total: 5min 44s\n",
      "Wall time: 2min 56s\n"
     ]
    }
   ],
   "source": [
    "%%time\n",
    "neuralnet_1(pwl_12,pwl_12_der,20000)"
   ]
  },
  {
   "cell_type": "markdown",
   "metadata": {},
   "source": [
    "### Piecewise linear function (k=14)"
   ]
  },
  {
   "cell_type": "code",
   "execution_count": 418,
   "metadata": {},
   "outputs": [
    {
     "name": "stdout",
     "output_type": "stream",
     "text": [
      "Epoch 0 cost:  0.8785852067282991\n",
      "Epoch 1000 cost:  0.4526077923927907\n",
      "Epoch 2000 cost:  0.4403286311070453\n",
      "Epoch 3000 cost:  0.4318828588635498\n",
      "Epoch 4000 cost:  0.4224250485865676\n",
      "Epoch 5000 cost:  0.4124234578029452\n",
      "Epoch 6000 cost:  0.4050502529469068\n",
      "Epoch 7000 cost:  0.39841341039899936\n",
      "Epoch 8000 cost:  0.39172178853051226\n",
      "Epoch 9000 cost:  0.3863757827098945\n",
      "Epoch 10000 cost:  0.3804623480727383\n",
      "Epoch 11000 cost:  0.3750809461901533\n",
      "Epoch 12000 cost:  0.3714253340080512\n",
      "Epoch 13000 cost:  0.3668899089941519\n",
      "Epoch 14000 cost:  0.36324616314279035\n",
      "Epoch 15000 cost:  0.3591284116917878\n",
      "Epoch 16000 cost:  0.3558077463873029\n",
      "Epoch 17000 cost:  0.6182622816557671\n",
      "Epoch 18000 cost:  0.5928721070989912\n",
      "Epoch 19000 cost:  0.5862600044838332\n",
      "Final cost: 0.5832806632194709\n",
      "[[82 33]\n",
      " [17 22]]\n",
      "             precision    recall  f1-score   support\n",
      "\n",
      "      False       0.83      0.71      0.77       115\n",
      "       True       0.40      0.56      0.47        39\n",
      "\n",
      "avg / total       0.72      0.68      0.69       154\n",
      "\n",
      "Accuracy = 0.6753246753246753\n",
      "CPU times: user 6min 36s, sys: 2.57 s, total: 6min 38s\n",
      "Wall time: 3min 24s\n"
     ]
    }
   ],
   "source": [
    "%%time\n",
    "neuralnet_1(pwl_14,pwl_14_der,20000)"
   ]
  },
  {
   "cell_type": "markdown",
   "metadata": {},
   "source": [
    "# Conclusion on test set (After 20000 epochs)\n",
    "After 20000 epochs, the following results(accuracy) were obtained: -\n",
    "1. Sigmoid activation- 0.70\n",
    "2. Piecewise Linear Function activation (k=4) - 0.66\n",
    "3. Piecewise Linear Function activation (k=6) - 0.74\n",
    "4. Piecewise Linear Function activation (k=8) - 0.68\n",
    "5. Piecewise Linear Function activation (k=10) - 0.51\n",
    "6. Piecewise Linear Function activation (k=12) - 0.73\n",
    "7. Piecewise Linear Function activation (k=14) - 0.67\n",
    "\n",
    "Cost after 20000 epochs is the following: - \n",
    "1. Sigmoid activation- 0.308\n",
    "2. Piecewise Linear Function activation (k=4) - 0.50\n",
    "3. Piecewise Linear Function activation (k=6) - 0.35\n",
    "4. Piecewise Linear Function activation (k=8) - 0.579\n",
    "5. Piecewise Linear Function activation (k=10) - 0.60\n",
    "6. Piecewise Linear Function activation (k=12) - 0.34\n",
    "7. Piecewise Linear Function activation (k=14) - 0.58\n",
    "\n",
    "Time taken for 20000 epochs training \n",
    "1. Sigmoid activation- 8.87 s\n",
    "2. Piecewise Linear Function activation (k=4) - 3min 36s\n",
    "3. Piecewise Linear Function activation (k=6) - 4min 16s\n",
    "4. Piecewise Linear Function activation (k=8) - 4min 41s\n",
    "5. Piecewise Linear Function activation (k=10) - 6min 4s\n",
    "6. Piecewise Linear Function activation (k=12) - 5min 44s\n",
    "7. Piecewise Linear Function activation (k=14) - 6min 38s\n",
    "\n"
   ]
  },
  {
   "cell_type": "markdown",
   "metadata": {},
   "source": [
    "# Conclusion\n",
    "After significant training effort (20,000 epochs) we can see that training accuracy increases as we try to fit the piecewise linear function by large number of segments in this case 14. As the accuracy increases so does the computation effort which can be seen in terms of time taken by the model to complete training. In piecewise linear function the training accuracy first increases, decreases and then increases, whereas the test accuracy goes completely opposite trend. This proves that if we try to overfit the model i.e perform well on training data it might perform bad on test data or unseen data. \n",
    "Sigmoid function performs better in terms of computation and performance on test set. \n"
   ]
  }
 ],
 "metadata": {
  "kernelspec": {
   "display_name": "Python 3",
   "language": "python",
   "name": "python3"
  },
  "language_info": {
   "codemirror_mode": {
    "name": "ipython",
    "version": 3
   },
   "file_extension": ".py",
   "mimetype": "text/x-python",
   "name": "python",
   "nbconvert_exporter": "python",
   "pygments_lexer": "ipython3",
   "version": "3.6.5"
  }
 },
 "nbformat": 4,
 "nbformat_minor": 2
}
